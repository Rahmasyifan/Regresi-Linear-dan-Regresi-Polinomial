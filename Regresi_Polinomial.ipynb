{
  "nbformat": 4,
  "nbformat_minor": 0,
  "metadata": {
    "colab": {
      "provenance": []
    },
    "kernelspec": {
      "name": "python3",
      "display_name": "Python 3"
    },
    "language_info": {
      "name": "python"
    }
  },
  "cells": [
    {
      "cell_type": "code",
      "execution_count": 7,
      "metadata": {
        "colab": {
          "base_uri": "https://localhost:8080/"
        },
        "id": "g3z0YvfzqwBs",
        "outputId": "cb6eda02-294f-4252-f2b6-1b68694b6ca7"
      },
      "outputs": [
        {
          "output_type": "stream",
          "name": "stdout",
          "text": [
            "Prediksi\n",
            "Input =  [[11]]\n",
            "Output =  [44.]\n"
          ]
        }
      ],
      "source": [
        "from sklearn.preprocessing import PolynomialFeatures\n",
        "from sklearn import linear_model\n",
        "import numpy as np\n",
        "\n",
        "#Database\n",
        "# x = Data, y = Target\n",
        "x = [[2],[4],[6],[8],[10],[12],[14],[16],[18],[20]]\n",
        "y = [8, 16, 24, 32, 40, 48, 56, 64, 72, 80]\n",
        "\n",
        "#Data Uji\n",
        "predict = np.array([[11]])\n",
        "poly = PolynomialFeatures(degree=2)\n",
        "x_= poly.fit_transform(x)\n",
        "predict_= poly.fit_transform(predict)\n",
        "regr = linear_model.LinearRegression()\n",
        "regr.fit(x_,y)\n",
        "\n",
        "#Menampilkan data prediksi\n",
        "print (\"Prediksi\")\n",
        "print (\"Input = \", predict)\n",
        "print (\"Output = \", regr.predict(predict_))"
      ]
    }
  ]
}