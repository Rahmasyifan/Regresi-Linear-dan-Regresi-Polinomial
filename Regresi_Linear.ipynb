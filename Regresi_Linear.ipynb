{
  "nbformat": 4,
  "nbformat_minor": 0,
  "metadata": {
    "colab": {
      "provenance": []
    },
    "kernelspec": {
      "name": "python3",
      "display_name": "Python 3"
    },
    "language_info": {
      "name": "python"
    }
  },
  "cells": [
    {
      "cell_type": "code",
      "execution_count": 3,
      "metadata": {
        "colab": {
          "base_uri": "https://localhost:8080/"
        },
        "id": "MSCtBnjuqS5f",
        "outputId": "346d9b57-bbc7-4a01-cd19-ece418a68092"
      },
      "outputs": [
        {
          "output_type": "stream",
          "name": "stdout",
          "text": [
            "Prediksi\n",
            "Input =  [[40]]\n",
            "Output =  [160.]\n"
          ]
        }
      ],
      "source": [
        "import numpy as np\n",
        "from sklearn.linear_model import LinearRegression\n",
        "\n",
        "#Database\n",
        "# x =  Data, y = Target\n",
        "x = [[2],[4],[6],[8],[10],[12],[14],[16],[18],[20]]\n",
        "y = [8, 16, 24, 32, 40, 48, 56, 64, 72, 80]\n",
        "\n",
        "regr = LinearRegression().fit(x,y)\n",
        "regr.score(x, y)\n",
        "\n",
        "\n",
        "# Data Uji\n",
        "predict =  np.array([[40]])\n",
        "\n",
        "# Menampilkan data prediksi\n",
        "print (\"Prediksi\")\n",
        "print (\"Input = \", predict)\n",
        "print (\"Output = \", regr.predict(predict))"
      ]
    }
  ]
}